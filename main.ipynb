{
 "metadata": {
  "language_info": {
   "codemirror_mode": {
    "name": "ipython",
    "version": 3
   },
   "file_extension": ".py",
   "mimetype": "text/x-python",
   "name": "python",
   "nbconvert_exporter": "python",
   "pygments_lexer": "ipython3",
   "version": "3.8.2-final"
  },
  "orig_nbformat": 2,
  "kernelspec": {
   "name": "py37-kasai",
   "display_name": "py37-kasai",
   "language": "python"
  }
 },
 "nbformat": 4,
 "nbformat_minor": 2,
 "cells": [
  {
   "cell_type": "code",
   "execution_count": 1,
   "metadata": {},
   "outputs": [],
   "source": [
    "import math\n",
    "\n",
    "def viterbi(observs,states,sp,tp,ep):\n",
    "    #状態 FとLが格納される\n",
    "    T = {}\n",
    "    for st in states:\n",
    "        T[st] = (0 + sp[st] + ep[st][observs[0]],[st])\n",
    "    for ob in observs[1:]:\n",
    "        T = next_state(ob,states,T,tp,ep)\n",
    "\n",
    "    return T\n",
    "\n",
    "\n",
    "def next_state(ob,states,T,tp,ep):\n",
    "    #状態 FとLが格納される\n",
    "    U = {}\n",
    "    for next_s in states:\n",
    "        U[next_s] = (-float('inf'),[])\n",
    "        for now_s in states:\n",
    "            p = ep[next_s][ob] + T[now_s][0] + tp[now_s][next_s]\n",
    "            if p>U[next_s][0]:\n",
    "                U[next_s] = [p,T[now_s][1]+[next_s]]\n",
    "    return U"
   ]
  },
  {
   "cell_type": "code",
   "execution_count": 2,
   "metadata": {},
   "outputs": [
    {
     "output_type": "error",
     "ename": "FileNotFoundError",
     "evalue": "[Errno 2] No such file or directory: './observed.txt'",
     "traceback": [
      "\u001b[0;31m---------------------------------------------------------------------------\u001b[0m",
      "\u001b[0;31mFileNotFoundError\u001b[0m                         Traceback (most recent call last)",
      "\u001b[0;32m<ipython-input-2-e70a57944f19>\u001b[0m in \u001b[0;36m<module>\u001b[0;34m\u001b[0m\n\u001b[0;32m----> 1\u001b[0;31m \u001b[0mf\u001b[0m \u001b[0;34m=\u001b[0m \u001b[0mopen\u001b[0m\u001b[0;34m(\u001b[0m\u001b[0;34m'./observed.txt'\u001b[0m\u001b[0;34m)\u001b[0m\u001b[0;34m\u001b[0m\u001b[0;34m\u001b[0m\u001b[0m\n\u001b[0m\u001b[1;32m      2\u001b[0m \u001b[0mobserved\u001b[0m \u001b[0;34m=\u001b[0m \u001b[0mf\u001b[0m\u001b[0;34m.\u001b[0m\u001b[0mread\u001b[0m\u001b[0;34m(\u001b[0m\u001b[0;34m)\u001b[0m\u001b[0;34m\u001b[0m\u001b[0;34m\u001b[0m\u001b[0m\n\u001b[1;32m      3\u001b[0m \u001b[0mf\u001b[0m\u001b[0;34m.\u001b[0m\u001b[0mclose\u001b[0m\u001b[0;34m(\u001b[0m\u001b[0;34m)\u001b[0m\u001b[0;34m\u001b[0m\u001b[0;34m\u001b[0m\u001b[0m\n\u001b[1;32m      4\u001b[0m \u001b[0;34m\u001b[0m\u001b[0m\n\u001b[1;32m      5\u001b[0m \u001b[0mstates\u001b[0m \u001b[0;34m=\u001b[0m \u001b[0;34m(\u001b[0m\u001b[0;34m\"F\"\u001b[0m\u001b[0;34m,\u001b[0m\u001b[0;34m\"L\"\u001b[0m\u001b[0;34m)\u001b[0m\u001b[0;34m\u001b[0m\u001b[0;34m\u001b[0m\u001b[0m\n",
      "\u001b[0;31mFileNotFoundError\u001b[0m: [Errno 2] No such file or directory: './observed.txt'"
     ]
    }
   ],
   "source": [
    "f = open('observed.txt')\n",
    "observed = f.read()\n",
    "f.close()\n",
    "\n",
    "states = (\"F\",\"L\")\n",
    "start_prob = {\"F\":math.log(0.5),\"L\":math.log(0.5)}\n",
    "transit_prob = {\"F\":{\"F\":math.log(0.95),\"L\":math.log(0.05)},\n",
    "                \"L\":{\"F\":math.log(0.1),\"L\":math.log(0.9)}}\n",
    "emission_prob = {'F' : {'1': math.log(1/6), '2': math.log(1/6), '3': math.log(1/6),'4': math.log(1/6), '5': math.log(1/6), '6': math.log(1/6)},\n",
    "                 'L' : {'1': math.log(1/10), '2': math.log(1/10), '3': math.log(1/10),'4': math.log(1/10), '5': math.log(1/10), '6': math.log(1/2)}}\n",
    "\n",
    "v = viterbi(observed,states,\n",
    "                start_prob,transit_prob,emission_prob)\n",
    "\n",
    "print(\"Fの確率:{}\".format(v['F'][0]))\n",
    "print(\"Lの確率:{}\".format(v['L'][0]))\n",
    "for i in v[\"F\"][1]:\n",
    "    print(i,end=\"\")"
   ]
  },
  {
   "cell_type": "code",
   "execution_count": null,
   "metadata": {},
   "outputs": [],
   "source": []
  }
 ]
}